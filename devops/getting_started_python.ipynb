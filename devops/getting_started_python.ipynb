{
  "nbformat": 4,
  "nbformat_minor": 0,
  "metadata": {
    "colab": {
      "name": "getting-started-python.ipynb",
      "provenance": [],
      "toc_visible": true,
      "authorship_tag": "ABX9TyPF5yQLHfdjLCXPNrkG5IC7",
      "include_colab_link": true
    },
    "kernelspec": {
      "name": "python3",
      "display_name": "Python 3"
    },
    "language_info": {
      "name": "python"
    }
  },
  "cells": [
    {
      "cell_type": "markdown",
      "metadata": {
        "id": "view-in-github",
        "colab_type": "text"
      },
      "source": [
        "<a href=\"https://colab.research.google.com/github/sonet/python-demos/blob/main/devops/getting_started_python.ipynb\" target=\"_parent\"><img src=\"https://colab.research.google.com/assets/colab-badge.svg\" alt=\"Open In Colab\"/></a>"
      ]
    },
    {
      "cell_type": "markdown",
      "source": [
        "## Introduction to Python"
      ],
      "metadata": {
        "id": "f8-AqReFU6kn"
      }
    },
    {
      "cell_type": "markdown",
      "source": [
        "### Statements in Python"
      ],
      "metadata": {
        "id": "AY4boIhsVVwj"
      }
    },
    {
      "cell_type": "code",
      "source": [
        "print(\"hello python!\")"
      ],
      "metadata": {
        "id": "FTAPb2n1WKuE",
        "outputId": "c30cca6e-022f-4c19-e9b2-5cc9791afb36",
        "colab": {
          "base_uri": "https://localhost:8080/"
        }
      },
      "execution_count": 2,
      "outputs": [
        {
          "output_type": "stream",
          "name": "stdout",
          "text": [
            "hello python!\n"
          ]
        }
      ]
    },
    {
      "cell_type": "code",
      "source": [
        "name = \"mark\"\n",
        "print(f\"hello {name}\")"
      ],
      "metadata": {
        "id": "anPo7VkOWrj4",
        "outputId": "76bed996-1e78-4b0b-df62-24a2260ee61c",
        "colab": {
          "base_uri": "https://localhost:8080/"
        }
      },
      "execution_count": 3,
      "outputs": [
        {
          "output_type": "stream",
          "name": "stdout",
          "text": [
            "hello mark\n"
          ]
        }
      ]
    },
    {
      "cell_type": "markdown",
      "source": [
        "### Data structures: Lists and Dictionaries\n",
        "\n",
        "#Lists"
      ],
      "metadata": {
        "id": "9wTE8p8CXJBb"
      }
    },
    {
      "cell_type": "code",
      "source": [
        "fruit=[\"apple\", \"pear\", \"strawberry\"]\n",
        "type(fruit)\n",
        "fruit[0]\n",
        "fruit[:-1]\n",
        "\n",
        "for my_fruit in fruit:\n",
        "  print(f\"This is my fruit: {my_fruit}\")\n",
        "  "
      ],
      "metadata": {
        "id": "QpiN5T2mXWEO",
        "outputId": "def31ae2-8c1e-45fa-96e6-7c21147765d2",
        "colab": {
          "base_uri": "https://localhost:8080/"
        }
      },
      "execution_count": 8,
      "outputs": [
        {
          "output_type": "stream",
          "name": "stdout",
          "text": [
            "This is my fruit: apple\n",
            "This is my fruit: pear\n",
            "This is my fruit: strawberry\n"
          ]
        }
      ]
    },
    {
      "cell_type": "markdown",
      "source": [
        "#Dictionary"
      ],
      "metadata": {
        "id": "u71Dx_vKr8Qz"
      }
    },
    {
      "cell_type": "code",
      "source": [
        "meal = {\"breakfast\": \"black coffee\", \"lunch\": \"salad\", \"dinner\": \"rice and beans\"}\n",
        "meal.keys()\n",
        "meal.values()"
      ],
      "metadata": {
        "id": "a-DyDIwAsARQ",
        "outputId": "e7afb1fb-c9a3-4113-ec0d-ea1bcd36dfa7",
        "colab": {
          "base_uri": "https://localhost:8080/"
        }
      },
      "execution_count": 5,
      "outputs": [
        {
          "output_type": "execute_result",
          "data": {
            "text/plain": [
              "dict_values(['black coffee', 'salad', 'rice and beans'])"
            ]
          },
          "metadata": {},
          "execution_count": 5
        }
      ]
    },
    {
      "cell_type": "code",
      "source": [
        "for meal_name, meal_item in meal.items():\n",
        "    print(f\"This meal {meal_name} is when I like to consume {meal_item}\")"
      ],
      "metadata": {
        "id": "DDXLAnIJsPlA",
        "outputId": "6526164e-297f-4312-9b89-05792e210016",
        "colab": {
          "base_uri": "https://localhost:8080/"
        }
      },
      "execution_count": 4,
      "outputs": [
        {
          "output_type": "stream",
          "name": "stdout",
          "text": [
            "This meal breakfast is when I like to consume black coffee\n",
            "This meal lunch is when I like to consume salad\n",
            "This meal dinner is when I like to consume rice and beans\n"
          ]
        }
      ]
    }
  ]
}